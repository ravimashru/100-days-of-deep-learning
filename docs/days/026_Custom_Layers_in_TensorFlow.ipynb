{
  "nbformat": 4,
  "nbformat_minor": 0,
  "metadata": {
    "colab": {
      "name": "Custom Layers in TensorFlow.ipynb",
      "provenance": [],
      "authorship_tag": "ABX9TyPoWaEImdox3eNP/8pfqQ6H",
      "include_colab_link": true
    },
    "kernelspec": {
      "name": "python3",
      "display_name": "Python 3"
    }
  },
  "cells": [
    {
      "cell_type": "markdown",
      "metadata": {
        "id": "view-in-github",
        "colab_type": "text"
      },
      "source": [
        "<a href=\"https://colab.research.google.com/github/ravimashru/100-days-of-deep-learning/blob/master/docs/days/026_Custom_Layers_in_TensorFlow.ipynb\" target=\"_parent\"><img src=\"https://colab.research.google.com/assets/colab-badge.svg\" alt=\"Open In Colab\"/></a>"
      ]
    },
    {
      "cell_type": "markdown",
      "metadata": {
        "id": "MwW1SlZySgR-"
      },
      "source": [
        "# Custom Layers in TensorFlow\n",
        "\n",
        "\n"
      ]
    },
    {
      "cell_type": "code",
      "metadata": {
        "id": "nkGnqN05Sb7o",
        "colab": {
          "base_uri": "https://localhost:8080/"
        },
        "outputId": "bd59d483-7bd8-4914-f648-d3240d13708c"
      },
      "source": [
        "import tensorflow as tf\n",
        "from tensorflow import keras\n",
        "\n",
        "print('TensorFlow: ', tf.__version__)\n",
        "print('Keras: ', keras.__version__)"
      ],
      "execution_count": 1,
      "outputs": [
        {
          "output_type": "stream",
          "text": [
            "TensorFlow:  2.3.0\n",
            "Keras:  2.4.0\n"
          ],
          "name": "stdout"
        }
      ]
    },
    {
      "cell_type": "code",
      "metadata": {
        "colab": {
          "base_uri": "https://localhost:8080/"
        },
        "id": "DlwDvhGgTtwH",
        "outputId": "74fc6ede-4c49-420c-9afa-512d1387b363"
      },
      "source": [
        "from keras.datasets import mnist\n",
        "from sklearn.model_selection import train_test_split\n",
        "\n",
        "(X_train, y_train), (X_test, y_test) = mnist.load_data()\n",
        "\n",
        "X_train, X_valid, y_train, y_valid = train_test_split(X_train, y_train)\n",
        "\n",
        "print('Training set: ', X_train.shape, y_train.shape)\n",
        "print('Validation set: ', X_valid.shape, y_valid.shape)\n",
        "print('Test set: ', X_test.shape, y_test.shape)"
      ],
      "execution_count": 2,
      "outputs": [
        {
          "output_type": "stream",
          "text": [
            "Downloading data from https://storage.googleapis.com/tensorflow/tf-keras-datasets/mnist.npz\n",
            "11493376/11490434 [==============================] - 0s 0us/step\n",
            "Training set:  (45000, 28, 28) (45000,)\n",
            "Validation set:  (15000, 28, 28) (15000,)\n",
            "Test set:  (10000, 28, 28) (10000,)\n"
          ],
          "name": "stdout"
        }
      ]
    },
    {
      "cell_type": "markdown",
      "metadata": {
        "id": "v45Cg9Z8U2cJ"
      },
      "source": [
        "First, we will create a layer that behaves like the `tf.keras.layers.Flatten` layer and converts the `28x28` input to an array of 784 inputs.\n",
        "\n",
        "The easiest way to create such a layer that has no weights is by using the `Lambda` layer as follows:"
      ]
    },
    {
      "cell_type": "code",
      "metadata": {
        "id": "QMMmGX5HhiX7"
      },
      "source": [
        "import numpy as np\n",
        "\n",
        "flatten_layer = keras.layers.Lambda(lambda x: tf.reshape(x, [-1, np.prod(x.shape[1:])]))"
      ],
      "execution_count": 82,
      "outputs": []
    },
    {
      "cell_type": "markdown",
      "metadata": {
        "id": "YPKBYTzchlPM"
      },
      "source": [
        "Now, let us create a layer that behaves like `tf.keras.layers.Dense`. Since this layer needs to keep track of weights and biases, we can't use a simple lambda function. We need to subclass the `tf.keras.layers.Layer` class as follows:"
      ]
    },
    {
      "cell_type": "code",
      "metadata": {
        "id": "14gRDTCfiEY0"
      },
      "source": [
        "class DenseLayer(keras.layers.Layer):\n",
        "\n",
        "  # The constructor takes the following hyperparameters as arguments:\n",
        "  #  - units: the number of neurons in this dense layer\n",
        "  #  - activation: the activation function to be used in this layer\n",
        "  def __init__(self, units, activation=None, **kwargs):\n",
        "    super().__init__(**kwargs)\n",
        "    self.units = units\n",
        "    self.activation = keras.activations.get(activation)\n",
        "\n",
        "\n",
        "  # This method is called the first time that the layer is used.\n",
        "  # The variables required by the layer are created here.\n",
        "  def build(self, batch_input_shape):\n",
        "    self.layer_weights = self.add_weight(\n",
        "        name='weights',\n",
        "        shape=[batch_input_shape[-1], self.units],\n",
        "        initializer='glorot_normal'\n",
        "    )\n",
        "\n",
        "    self.layer_biases = self.add_weight(name='biases', shape=[self.units], initializer='zeros')\n",
        "\n",
        "    # Call parent's build method to notify that we are done building this layer\n",
        "    super().build(batch_input_shape)\n",
        "\n",
        "\n",
        "  # Method called during the forward pass\n",
        "  def call(self, X):\n",
        "    return self.activation(X @ self.layer_weights + self.layer_biases)\n",
        "  "
      ],
      "execution_count": 93,
      "outputs": []
    },
    {
      "cell_type": "markdown",
      "metadata": {
        "id": "E4pwrQIklcVc"
      },
      "source": [
        "In case we need to create a layer that behaves differently during training and testing (e.g. `BatchNormalization` and `Dropout`), a `training` argument can be added to the `call()` function.\n",
        "\n",
        "Let us create a dropout layer that will work during training but not testing:"
      ]
    },
    {
      "cell_type": "code",
      "metadata": {
        "id": "0lf72tT9mN74"
      },
      "source": [
        "class DropoutLayer(keras.layers.Layer):\n",
        "\n",
        "  def __init__(self, rate=0.5, **kwargs):\n",
        "    super().__init__(**kwargs)\n",
        "    self.rate = rate\n",
        "\n",
        "  def call(self, X, training=None):\n",
        "    if training:\n",
        "      return tf.nn.dropout(X, self.rate)\n",
        "    else:\n",
        "      return X\n",
        "  "
      ],
      "execution_count": 94,
      "outputs": []
    },
    {
      "cell_type": "markdown",
      "metadata": {
        "id": "rorsV86DiEzy"
      },
      "source": [
        "Now let us create a model using these custom layers:"
      ]
    },
    {
      "cell_type": "code",
      "metadata": {
        "colab": {
          "base_uri": "https://localhost:8080/"
        },
        "id": "y0ixtwQfUWqq",
        "outputId": "5a0e59a4-636d-4461-c112-4bb492fe51ca"
      },
      "source": [
        "input = keras.layers.Input(shape=(28,28))\n",
        "\n",
        "# Use our custom flatten layer\n",
        "flattened = flatten_layer(input)\n",
        "\n",
        "# Use our custom dense and dropout layers\n",
        "dense = DenseLayer(128, activation='relu')(flattened)\n",
        "dropout = DropoutLayer(0.2)(dense)\n",
        "\n",
        "output = DenseLayer(10, activation='softmax')(dropout)\n",
        "\n",
        "model = keras.Model(input, output)\n",
        "\n",
        "model.summary()"
      ],
      "execution_count": 97,
      "outputs": [
        {
          "output_type": "stream",
          "text": [
            "Model: \"functional_72\"\n",
            "_________________________________________________________________\n",
            "Layer (type)                 Output Shape              Param #   \n",
            "=================================================================\n",
            "input_44 (InputLayer)        [(None, 28, 28)]          0         \n",
            "_________________________________________________________________\n",
            "lambda_22 (Lambda)           (None, 784)               0         \n",
            "_________________________________________________________________\n",
            "dense_layer_9 (DenseLayer)   (None, 128)               100480    \n",
            "_________________________________________________________________\n",
            "dropout_layer_2 (DropoutLaye (None, 128)               0         \n",
            "_________________________________________________________________\n",
            "dense_layer_10 (DenseLayer)  (None, 10)                1290      \n",
            "=================================================================\n",
            "Total params: 101,770\n",
            "Trainable params: 101,770\n",
            "Non-trainable params: 0\n",
            "_________________________________________________________________\n"
          ],
          "name": "stdout"
        }
      ]
    },
    {
      "cell_type": "markdown",
      "metadata": {
        "id": "lyqIPpaUiKDt"
      },
      "source": [
        "The functional API is used in this example, however the sequential API could also be used. The custom layers created behave like any other layers in Keras."
      ]
    },
    {
      "cell_type": "code",
      "metadata": {
        "id": "iYVcsgybaOgR"
      },
      "source": [
        "model.compile(optimizer='adam', loss='sparse_categorical_crossentropy', metrics=['accuracy'])"
      ],
      "execution_count": 98,
      "outputs": []
    },
    {
      "cell_type": "code",
      "metadata": {
        "colab": {
          "base_uri": "https://localhost:8080/"
        },
        "id": "i2zc3pkDafC5",
        "outputId": "2f1393e4-083e-49bb-a144-5b8e8a2ed3b1"
      },
      "source": [
        "model.fit(X_train, y_train, batch_size=64, epochs=10, validation_data=(X_valid, y_valid))"
      ],
      "execution_count": 99,
      "outputs": [
        {
          "output_type": "stream",
          "text": [
            "Epoch 1/10\n",
            "704/704 [==============================] - 2s 3ms/step - loss: 3.9426 - accuracy: 0.7520 - val_loss: 0.6955 - val_accuracy: 0.8491\n",
            "Epoch 2/10\n",
            "704/704 [==============================] - 2s 3ms/step - loss: 0.6897 - accuracy: 0.8289 - val_loss: 0.5704 - val_accuracy: 0.8754\n",
            "Epoch 3/10\n",
            "704/704 [==============================] - 2s 3ms/step - loss: 0.5458 - accuracy: 0.8611 - val_loss: 0.4632 - val_accuracy: 0.9005\n",
            "Epoch 4/10\n",
            "704/704 [==============================] - 2s 3ms/step - loss: 0.4602 - accuracy: 0.8804 - val_loss: 0.3890 - val_accuracy: 0.9203\n",
            "Epoch 5/10\n",
            "704/704 [==============================] - 2s 3ms/step - loss: 0.4014 - accuracy: 0.8935 - val_loss: 0.3397 - val_accuracy: 0.9247\n",
            "Epoch 6/10\n",
            "704/704 [==============================] - 2s 3ms/step - loss: 0.3618 - accuracy: 0.9032 - val_loss: 0.3670 - val_accuracy: 0.9250\n",
            "Epoch 7/10\n",
            "704/704 [==============================] - 2s 3ms/step - loss: 0.3462 - accuracy: 0.9074 - val_loss: 0.3010 - val_accuracy: 0.9337\n",
            "Epoch 8/10\n",
            "704/704 [==============================] - 2s 3ms/step - loss: 0.3213 - accuracy: 0.9128 - val_loss: 0.3058 - val_accuracy: 0.9383\n",
            "Epoch 9/10\n",
            "704/704 [==============================] - 2s 3ms/step - loss: 0.3000 - accuracy: 0.9208 - val_loss: 0.2835 - val_accuracy: 0.9413\n",
            "Epoch 10/10\n",
            "704/704 [==============================] - 2s 3ms/step - loss: 0.2866 - accuracy: 0.9245 - val_loss: 0.2747 - val_accuracy: 0.9457\n"
          ],
          "name": "stdout"
        },
        {
          "output_type": "execute_result",
          "data": {
            "text/plain": [
              "<tensorflow.python.keras.callbacks.History at 0x7f7527528668>"
            ]
          },
          "metadata": {
            "tags": []
          },
          "execution_count": 99
        }
      ]
    },
    {
      "cell_type": "code",
      "metadata": {
        "colab": {
          "base_uri": "https://localhost:8080/"
        },
        "id": "dTiZ81aEdMHz",
        "outputId": "d98f70a6-f817-46ed-870a-9cb815e0d602"
      },
      "source": [
        "model.evaluate(X_test, y_test)"
      ],
      "execution_count": 100,
      "outputs": [
        {
          "output_type": "stream",
          "text": [
            "313/313 [==============================] - 0s 1ms/step - loss: 0.2610 - accuracy: 0.9454\n"
          ],
          "name": "stdout"
        },
        {
          "output_type": "execute_result",
          "data": {
            "text/plain": [
              "[0.2609901428222656, 0.9453999996185303]"
            ]
          },
          "metadata": {
            "tags": []
          },
          "execution_count": 100
        }
      ]
    }
  ]
}