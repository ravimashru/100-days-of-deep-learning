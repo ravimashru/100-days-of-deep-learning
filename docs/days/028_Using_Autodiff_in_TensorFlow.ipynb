{
  "nbformat": 4,
  "nbformat_minor": 0,
  "metadata": {
    "colab": {
      "name": "Using Autodiff in TensorFlow.ipynb",
      "provenance": [],
      "collapsed_sections": [],
      "authorship_tag": "ABX9TyNynmyQyBIpAp8yWBtk1ifz",
      "include_colab_link": true
    },
    "kernelspec": {
      "name": "python3",
      "display_name": "Python 3"
    }
  },
  "cells": [
    {
      "cell_type": "markdown",
      "metadata": {
        "id": "view-in-github",
        "colab_type": "text"
      },
      "source": [
        "<a href=\"https://colab.research.google.com/github/ravimashru/100-days-of-deep-learning/blob/master/docs/days/028_Using_Autodiff_in_TensorFlow.ipynb\" target=\"_parent\"><img src=\"https://colab.research.google.com/assets/colab-badge.svg\" alt=\"Open In Colab\"/></a>"
      ]
    },
    {
      "cell_type": "markdown",
      "metadata": {
        "id": "tDv-ViN90vqh"
      },
      "source": [
        "# Using Autodiff in TensorFlow\n",
        "\n",
        "Autodiff is used by TensorFlow to calculate gradients automatically.\n",
        "\n",
        "For example, consider the function: $$f(x, y) = 3x^2 + 5xy$$"
      ]
    },
    {
      "cell_type": "code",
      "metadata": {
        "id": "FJFkPh160qZg"
      },
      "source": [
        "def f(x, y):\n",
        "  return 3 * x ** 2 + 5 * x * y"
      ],
      "execution_count": 1,
      "outputs": []
    },
    {
      "cell_type": "markdown",
      "metadata": {
        "id": "bCbnxhQL18LC"
      },
      "source": [
        "Let us compute the gradient of the function at $x = 5, y = 10$ manually."
      ]
    },
    {
      "cell_type": "code",
      "metadata": {
        "colab": {
          "base_uri": "https://localhost:8080/"
        },
        "id": "6QKhM0PV17l1",
        "outputId": "41672cfe-9074-45fd-a73e-bc1cbef71c3b"
      },
      "source": [
        "x, y = 5, 10\n",
        "eps = 1e-10\n",
        "\n",
        "# Gradient w.r.t. x\n",
        "df_dx = (f(x + eps, y) - f(x, y)) / eps\n",
        "print('df_dx: ', df_dx)\n",
        "\n",
        "# Gradient w.r.t. y\n",
        "df_dy = (f(x, y + eps) - f(x, y)) / eps\n",
        "print('df_dy: ', df_dy)"
      ],
      "execution_count": 2,
      "outputs": [
        {
          "output_type": "stream",
          "text": [
            "df_dx:  80.00029083632398\n",
            "df_dy:  24.999735614983365\n"
          ],
          "name": "stdout"
        }
      ]
    },
    {
      "cell_type": "markdown",
      "metadata": {
        "id": "gujSaEXI2xaI"
      },
      "source": [
        "Using autodiff, this can be done as follows:"
      ]
    },
    {
      "cell_type": "code",
      "metadata": {
        "colab": {
          "base_uri": "https://localhost:8080/"
        },
        "id": "2NNJaOPN2iL-",
        "outputId": "50c66d0b-0815-4d8e-a52d-46a5e4157316"
      },
      "source": [
        "import tensorflow as tf\n",
        "\n",
        "x, y = tf.Variable(5.), tf.Variable(10.)\n",
        "with tf.GradientTape() as tape:\n",
        "  z = f(x, y)\n",
        "\n",
        "gradients = tape.gradient(z, [x, y])\n",
        "\n",
        "print(gradients)"
      ],
      "execution_count": 3,
      "outputs": [
        {
          "output_type": "stream",
          "text": [
            "[<tf.Tensor: shape=(), dtype=float32, numpy=80.0>, <tf.Tensor: shape=(), dtype=float32, numpy=25.0>]\n"
          ],
          "name": "stdout"
        }
      ]
    },
    {
      "cell_type": "markdown",
      "metadata": {
        "id": "qLCiQpVL5yF_"
      },
      "source": [
        "Sometimes, there can be numerical difficulties due to floating-point precision errors:"
      ]
    },
    {
      "cell_type": "code",
      "metadata": {
        "colab": {
          "base_uri": "https://localhost:8080/"
        },
        "id": "D5JzNqIL3Ssq",
        "outputId": "8dccc664-6e72-4cf6-8e1e-5ffeb77aa0b2"
      },
      "source": [
        "def softplus(x):\n",
        "  return tf.math.log(1 + tf.math.exp(x))\n",
        "\n",
        "x = tf.Variable([100.])\n",
        "with tf.GradientTape() as tape:\n",
        "  z = softplus(x)\n",
        "\n",
        "tape.gradient(z, [x])"
      ],
      "execution_count": 8,
      "outputs": [
        {
          "output_type": "execute_result",
          "data": {
            "text/plain": [
              "[<tf.Tensor: shape=(1,), dtype=float32, numpy=array([nan], dtype=float32)>]"
            ]
          },
          "metadata": {
            "tags": []
          },
          "execution_count": 8
        }
      ]
    },
    {
      "cell_type": "markdown",
      "metadata": {
        "id": "sdLFcSir5_Lu"
      },
      "source": [
        "To fix this, we can decorate a function whose derivative we are interested in using the `@tf.custom_gradient` decorator and make it return its normal output and a stable function to calculate the derivative. The function that calculates the derivative will receive the gradients backpropagated so far as a parameter."
      ]
    },
    {
      "cell_type": "code",
      "metadata": {
        "colab": {
          "base_uri": "https://localhost:8080/"
        },
        "id": "3T1Xo5ld4WMF",
        "outputId": "70ba5cff-64f6-43ab-e35f-bd8e06e20a63"
      },
      "source": [
        "@tf.custom_gradient\n",
        "def stable_softplus(x):\n",
        "  \n",
        "  exp = tf.exp(x)\n",
        "  \n",
        "  def softplus_gradient(grad):\n",
        "    # Using chain rule, multiple gradient so far with gradient of function\n",
        "    # Gradient of softplus = 1 / (1 + 1 / exp(x))\n",
        "    return grad * (1 / (1 + 1 / exp))\n",
        "\n",
        "  return tf.math.log(1 + exp), softplus_gradient\n",
        "\n",
        "x = tf.Variable([100.])\n",
        "with tf.GradientTape() as tape:\n",
        "  z = stable_softplus(x)\n",
        "\n",
        "tape.gradient(z, [x])"
      ],
      "execution_count": 9,
      "outputs": [
        {
          "output_type": "execute_result",
          "data": {
            "text/plain": [
              "[<tf.Tensor: shape=(1,), dtype=float32, numpy=array([1.], dtype=float32)>]"
            ]
          },
          "metadata": {
            "tags": []
          },
          "execution_count": 9
        }
      ]
    }
  ]
}