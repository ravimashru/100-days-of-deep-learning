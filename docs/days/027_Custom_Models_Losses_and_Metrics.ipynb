{
  "nbformat": 4,
  "nbformat_minor": 0,
  "metadata": {
    "colab": {
      "name": "Custom Models, Losses and Metrics.ipynb",
      "provenance": [],
      "collapsed_sections": [],
      "authorship_tag": "ABX9TyMqMTN8JSn7JzAM+slo9ka+",
      "include_colab_link": true
    },
    "kernelspec": {
      "name": "python3",
      "display_name": "Python 3"
    }
  },
  "cells": [
    {
      "cell_type": "markdown",
      "metadata": {
        "id": "view-in-github",
        "colab_type": "text"
      },
      "source": [
        "<a href=\"https://colab.research.google.com/github/ravimashru/100-days-of-deep-learning/blob/master/docs/days/027_Custom_Models_Losses_and_Metrics.ipynb\" target=\"_parent\"><img src=\"https://colab.research.google.com/assets/colab-badge.svg\" alt=\"Open In Colab\"/></a>"
      ]
    },
    {
      "cell_type": "markdown",
      "metadata": {
        "id": "HQS0mA2P5ouY"
      },
      "source": [
        "# Custom Models, Losses and Metrics"
      ]
    },
    {
      "cell_type": "code",
      "metadata": {
        "colab": {
          "base_uri": "https://localhost:8080/"
        },
        "id": "N-D7DG0R5jmR",
        "outputId": "d657dd25-3796-487d-cf5e-f6c69b2a3350"
      },
      "source": [
        "import tensorflow as tf\n",
        "from tensorflow import keras\n",
        "\n",
        "print('TensorFlow: ', tf.__version__)\n",
        "print('Keras: ', keras.__version__)"
      ],
      "execution_count": 1,
      "outputs": [
        {
          "output_type": "stream",
          "text": [
            "TensorFlow:  2.3.0\n",
            "Keras:  2.4.0\n"
          ],
          "name": "stdout"
        }
      ]
    },
    {
      "cell_type": "code",
      "metadata": {
        "colab": {
          "base_uri": "https://localhost:8080/"
        },
        "id": "yOh21DQr5sPq",
        "outputId": "9bf55c18-240f-4d8f-ce80-73b4878cb274"
      },
      "source": [
        "from keras.datasets import mnist\n",
        "from sklearn.model_selection import train_test_split\n",
        "\n",
        "(X_train, y_train), (X_test, y_test) = mnist.load_data()\n",
        "\n",
        "X_train, X_valid, y_train, y_valid = train_test_split(X_train, y_train)\n",
        "\n",
        "print('Training set: ', X_train.shape, y_train.shape)\n",
        "print('Validation set: ', X_valid.shape, y_valid.shape)\n",
        "print('Test set: ', X_test.shape, y_test.shape)"
      ],
      "execution_count": 2,
      "outputs": [
        {
          "output_type": "stream",
          "text": [
            "Downloading data from https://storage.googleapis.com/tensorflow/tf-keras-datasets/mnist.npz\n",
            "11493376/11490434 [==============================] - 0s 0us/step\n",
            "Training set:  (45000, 28, 28) (45000,)\n",
            "Validation set:  (15000, 28, 28) (15000,)\n",
            "Test set:  (10000, 28, 28) (10000,)\n"
          ],
          "name": "stdout"
        }
      ]
    },
    {
      "cell_type": "code",
      "metadata": {
        "id": "VMZ4SndE5tSv"
      },
      "source": [
        "class ResidualLayer(keras.layers.Layer):\n",
        "  def __init__(self, n_layers, n_neurons, **kwargs):\n",
        "    super().__init__(**kwargs)\n",
        "    self.hidden = [\n",
        "      keras.layers.Dense(n_neurons, activation=\"relu\", kernel_initializer=\"he_normal\")\n",
        "      for _ in range(n_layers)\n",
        "    ]\n",
        "\n",
        "  def call(self, inputs):\n",
        "    Z = inputs\n",
        "    for layer in self.hidden:\n",
        "      Z = layer(Z)\n",
        "    return inputs + Z\n",
        "\n",
        "class ResidualModel(keras.Model):\n",
        "  def __init__(self, output_dim, **kwargs):\n",
        "    super().__init__(**kwargs)\n",
        "    self.flatten = keras.layers.Flatten(dtype=tf.float32)\n",
        "    self.hidden = keras.layers.Dense(128, activation=\"relu\", kernel_initializer=\"he_normal\")\n",
        "    self.residual = ResidualLayer(3, 128)\n",
        "    self.out = keras.layers.Dense(output_dim)\n",
        "    self.reconstruct = keras.layers.Dense(784)\n",
        "\n",
        "  def call(self, inputs):\n",
        "    flat_inputs = self.flatten(inputs)\n",
        "    Z = self.hidden(flat_inputs)\n",
        "    recon = self.reconstruct(Z)\n",
        "    recon_loss = 0.05 * tf.reduce_mean(tf.square(recon - tf.cast(flat_inputs, dtype=tf.float32)))\n",
        "    self.add_loss(recon_loss)\n",
        "    self.add_metric(recon_loss, name='recon_loss', aggregation='mean')\n",
        "    for _ in range(3):\n",
        "      Z = self.residual(Z)\n",
        "    return self.out(Z)"
      ],
      "execution_count": 150,
      "outputs": []
    },
    {
      "cell_type": "code",
      "metadata": {
        "id": "4wkYA5cF_8XJ"
      },
      "source": [
        "model = ResidualModel(10)\n",
        "model.compile(optimizer='adam', loss='sparse_categorical_crossentropy', metrics=['accuracy'])"
      ],
      "execution_count": 151,
      "outputs": []
    },
    {
      "cell_type": "code",
      "metadata": {
        "colab": {
          "base_uri": "https://localhost:8080/"
        },
        "id": "LJokW09NADl9",
        "outputId": "3f129778-df02-42bd-ff5d-23f81c7b5e34"
      },
      "source": [
        "model.fit(X_train, y_train, batch_size=128, epochs=10, validation_data=(X_valid, y_valid))"
      ],
      "execution_count": 152,
      "outputs": [
        {
          "output_type": "stream",
          "text": [
            "Epoch 1/10\n",
            "352/352 [==============================] - 4s 11ms/step - loss: 106.0920 - accuracy: 0.1185 - recon_loss: 92.3067 - val_loss: 55.8659 - val_accuracy: 0.1155 - val_recon_loss: 42.0017\n",
            "Epoch 2/10\n",
            "352/352 [==============================] - 4s 11ms/step - loss: 47.9580 - accuracy: 0.1143 - recon_loss: 34.1907 - val_loss: 43.0808 - val_accuracy: 0.1117 - val_recon_loss: 29.2217\n",
            "Epoch 3/10\n",
            "352/352 [==============================] - 4s 11ms/step - loss: 40.5101 - accuracy: 0.1122 - recon_loss: 26.7454 - val_loss: 38.9966 - val_accuracy: 0.1102 - val_recon_loss: 25.1391\n",
            "Epoch 4/10\n",
            "352/352 [==============================] - 4s 11ms/step - loss: 37.6594 - accuracy: 0.1113 - recon_loss: 23.8963 - val_loss: 37.1362 - val_accuracy: 0.1087 - val_recon_loss: 23.2797\n",
            "Epoch 5/10\n",
            "352/352 [==============================] - 4s 11ms/step - loss: 36.3487 - accuracy: 0.1103 - recon_loss: 22.5860 - val_loss: 35.9400 - val_accuracy: 0.1075 - val_recon_loss: 22.0822\n",
            "Epoch 6/10\n",
            "352/352 [==============================] - 4s 11ms/step - loss: 35.4451 - accuracy: 0.1074 - recon_loss: 21.6840 - val_loss: 35.2330 - val_accuracy: 0.1041 - val_recon_loss: 21.3742\n",
            "Epoch 7/10\n",
            "352/352 [==============================] - 4s 11ms/step - loss: 34.5244 - accuracy: 0.1053 - recon_loss: 20.7629 - val_loss: 34.2468 - val_accuracy: 0.1029 - val_recon_loss: 20.3895\n",
            "Epoch 8/10\n",
            "352/352 [==============================] - 4s 11ms/step - loss: 33.8442 - accuracy: 0.1042 - recon_loss: 20.0852 - val_loss: 33.7853 - val_accuracy: 0.1033 - val_recon_loss: 19.9272\n",
            "Epoch 9/10\n",
            "352/352 [==============================] - 4s 11ms/step - loss: 33.3440 - accuracy: 0.1050 - recon_loss: 19.5813 - val_loss: 33.3729 - val_accuracy: 0.1041 - val_recon_loss: 19.5138\n",
            "Epoch 10/10\n",
            "352/352 [==============================] - 4s 11ms/step - loss: 32.9148 - accuracy: 0.1063 - recon_loss: 19.1519 - val_loss: 32.9808 - val_accuracy: 0.1055 - val_recon_loss: 19.1212\n"
          ],
          "name": "stdout"
        },
        {
          "output_type": "execute_result",
          "data": {
            "text/plain": [
              "<tensorflow.python.keras.callbacks.History at 0x7f03f819cf60>"
            ]
          },
          "metadata": {
            "tags": []
          },
          "execution_count": 152
        }
      ]
    }
  ]
}